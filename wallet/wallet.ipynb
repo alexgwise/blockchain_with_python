{
 "cells": [
  {
   "cell_type": "code",
   "execution_count": 1,
   "metadata": {},
   "outputs": [],
   "source": [
    "# Import dependencies\n",
    "import subprocess\n",
    "import os\n",
    "import json\n",
    "from dotenv import load_dotenv\n",
    "from web3 import Web3\n",
    "from bit import PrivateKeyTestnet\n",
    "from web3.middleware import geth_poa_middleware\n",
    "from eth_account import Account\n",
    "from bit.network import NetworkAPI"
   ]
  },
  {
   "cell_type": "code",
   "execution_count": 2,
   "metadata": {},
   "outputs": [],
   "source": [
    "# Load and set environment variables\n",
    "load_dotenv()\n",
    "mnemonic=os.getenv(\"mnemonic\")"
   ]
  },
  {
   "cell_type": "code",
   "execution_count": 3,
   "metadata": {},
   "outputs": [],
   "source": [
    "# Import constants.py and necessary functions from bit and web3\n",
    "w3 = Web3(Web3.HTTPProvider(\"http://127.0.0.1:8545\"))\n",
    "w3.middleware_onion.inject(geth_poa_middleware, layer=0)\n",
    "from constants import *"
   ]
  },
  {
   "cell_type": "code",
   "execution_count": 4,
   "metadata": {},
   "outputs": [
    {
     "data": {
      "text/plain": [
       "5"
      ]
     },
     "execution_count": 4,
     "metadata": {},
     "output_type": "execute_result"
    }
   ],
   "source": [
    "w3.eth.blockNumber"
   ]
  },
  {
   "cell_type": "code",
   "execution_count": 5,
   "metadata": {},
   "outputs": [
    {
     "data": {
      "text/plain": [
       "64"
      ]
     },
     "execution_count": 5,
     "metadata": {},
     "output_type": "execute_result"
    }
   ],
   "source": [
    "#private_key = \"167dd9832564b4cd53d6c92d729f6fd1dbe9852dd331c28a3dcc8e94ad407724\"\n",
    "private_key = os.getenv(\"PRIVATE_KEY\")\n",
    "len(private_key)"
   ]
  },
  {
   "cell_type": "code",
   "execution_count": 6,
   "metadata": {},
   "outputs": [
    {
     "data": {
      "text/plain": [
       "52"
      ]
     },
     "execution_count": 6,
     "metadata": {},
     "output_type": "execute_result"
    }
   ],
   "source": [
    "private_key_btc = os.getenv(\"PRIVATE_KEY_BTC\")\n",
    "len(private_key_btc)"
   ]
  },
  {
   "cell_type": "code",
   "execution_count": 7,
   "metadata": {},
   "outputs": [],
   "source": [
    "# ended up just reading in private key from .env file due to error message that couldn't be resolved in office hours\n",
    "\n",
    "# Create a function called `derive_wallets`\n",
    "#def derive_wallets(coin_type, mnemonic):\n",
    "    #command = 'php C:/Users/alexg/FinTech_edit_files/smu-dal-fin-pt-10-2020-u-c/02-Homework/19-Blockchain-Python/blockchain_with_python/wallet/derive/hd-wallet-derive.php -g --mnemonic=\"{mnemonic}\" --cols=privkey --format=json --coin={coin_type} --numderive=1'\n",
    "   #p = subprocess.Popen(command, stdout=subprocess.PIPE, shell=True)\n",
    "   # output, err = p.communicate()\n",
    "   # p_status = p.wait()\n",
    "   # return json.loads(output)"
   ]
  },
  {
   "cell_type": "code",
   "execution_count": 8,
   "metadata": {},
   "outputs": [],
   "source": [
    "# Create a function called `priv_key_to_account` that converts privkey strings to account objects.\n",
    "def priv_key_to_account(coin, priv_key):\n",
    "    if (coin == ETH):\n",
    "        return Account.privateKeyToAccount(priv_key)\n",
    "    elif (coin == BTCTEST):\n",
    "        return PrivateKeyTestnet(priv_key)"
   ]
  },
  {
   "cell_type": "code",
   "execution_count": 9,
   "metadata": {},
   "outputs": [],
   "source": [
    "# Create a function called `create_tx` that creates an unsigned transaction appropriate metadata.\n",
    "def create_tx(coin, account, recipient, amount):\n",
    "    if (coin == ETH):\n",
    "        gasEstimate = w3.eth.estimateGas(\n",
    "        {\"from\": account.address, \"to\": recipient, \"value\": amount}\n",
    "    )\n",
    "        return {\n",
    "        \"from\": account.address,\n",
    "        \"to\": recipient,\n",
    "        \"value\": amount,\n",
    "        \"gasPrice\": w3.eth.gasPrice,\n",
    "        \"gas\": gasEstimate,\n",
    "        \"nonce\": w3.eth.getTransactionCount(account.address),\n",
    "    }\n",
    "    elif (coin == BTCTEST):\n",
    "        return PrivateKeyTestnet.prepare_transaction(account.address, [(recipient, amount, \"btc\")])\n",
    "    "
   ]
  },
  {
   "cell_type": "code",
   "execution_count": 15,
   "metadata": {},
   "outputs": [],
   "source": [
    "# Create a function called `send_tx` that calls `create_tx`, signs and sends the transaction.\n",
    "def send_tx(coin, account, recipient, amount):\n",
    "    if (coin == ETH):\n",
    "        tx = create_tx(ETH,account,recipient,amount)\n",
    "        signed_tx = account.sign_transaction(tx)\n",
    "        result = w3.eth.sendRawTransaction(signed_tx.rawTransaction)\n",
    "        print(result.hex())\n",
    "        return result.hex()\n",
    "    elif (coin == BTCTEST):\n",
    "        tx = create_tx(BTCTEST,account,recipient,amount)\n",
    "        signed_tx = account.sign_transaction(tx)\n",
    "        return NetworkAPI.broadcast_tx_testnet(signed_tx)"
   ]
  },
  {
   "cell_type": "code",
   "execution_count": 16,
   "metadata": {},
   "outputs": [],
   "source": [
    "btc_account = priv_key_to_account(BTCTEST, private_key_btc)"
   ]
  },
  {
   "cell_type": "code",
   "execution_count": 17,
   "metadata": {},
   "outputs": [],
   "source": [
    "eth_account = priv_key_to_account(ETH, private_key)"
   ]
  },
  {
   "cell_type": "code",
   "execution_count": 13,
   "metadata": {},
   "outputs": [],
   "source": [
    "send_tx(BTCTEST, btc_account, \"mwqBUL2DpLM3SqWsNxanUwqv7jQxybN8mp\", 0.00001)"
   ]
  },
  {
   "cell_type": "code",
   "execution_count": 18,
   "metadata": {},
   "outputs": [
    {
     "name": "stdout",
     "output_type": "stream",
     "text": [
      "0x4bb38f26346865eca3bc78d31f5ce2e2a2edf521518f707df802e750c7d94829\n"
     ]
    },
    {
     "data": {
      "text/plain": [
       "'0x4bb38f26346865eca3bc78d31f5ce2e2a2edf521518f707df802e750c7d94829'"
      ]
     },
     "execution_count": 18,
     "metadata": {},
     "output_type": "execute_result"
    }
   ],
   "source": [
    "send_tx(ETH, eth_account, \"0x9c87c013941904Db6ec3af17cfe16dBe4d8fEeFc\", 1)"
   ]
  },
  {
   "cell_type": "code",
   "execution_count": null,
   "metadata": {},
   "outputs": [],
   "source": []
  },
  {
   "cell_type": "code",
   "execution_count": null,
   "metadata": {},
   "outputs": [],
   "source": []
  }
 ],
 "metadata": {
  "kernelspec": {
   "display_name": "Python [conda env:dev] *",
   "language": "python",
   "name": "conda-env-dev-py"
  },
  "language_info": {
   "codemirror_mode": {
    "name": "ipython",
    "version": 3
   },
   "file_extension": ".py",
   "mimetype": "text/x-python",
   "name": "python",
   "nbconvert_exporter": "python",
   "pygments_lexer": "ipython3",
   "version": "3.7.7"
  }
 },
 "nbformat": 4,
 "nbformat_minor": 4
}
